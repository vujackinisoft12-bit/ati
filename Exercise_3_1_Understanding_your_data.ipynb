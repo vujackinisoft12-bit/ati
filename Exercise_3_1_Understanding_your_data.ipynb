{
  "nbformat": 4,
  "nbformat_minor": 0,
  "metadata": {
    "colab": {
      "provenance": []
    },
    "kernelspec": {
      "name": "python3",
      "display_name": "Python 3"
    },
    "language_info": {
      "name": "python"
    }
  },
  "cells": [
    {
      "cell_type": "markdown",
      "source": [
        "## Exercise 3.1 Understanding your data\n",
        "You will soon start building models in Keras to predict wages based on various professional and demographic factors.\n",
        "\n",
        "Before you start building a model, it's good to understand your data by performing some exploratory analysis.\n",
        "\n",
        "In this exercise, you will work with a .csv file that contains some data about workers in a company. You can download this file from the following link:\n",
        "\n",
        "[hourly_wages.csv](https://drive.google.com/file/d/1elGBb48CX728knwJzU3ImHNvtuRoG7vu/view?usp=drive_link)\n",
        "\n",
        "The data is pre-loaded into a pandas DataFrame called `df`. You can Use the `head()` and `describe()` methods for a quick overview of the DataFrame.\n",
        "\n",
        "The target variable you'll be predicting is wage_per_hour. Some of the predictor variables are binary indicators, where a value of 1 represents True, and 0 represents False.\n",
        "\n",
        "In this exercise, you will practice performing some exploratory analysis on your data to figure out: Of the 9 predictor variables in the DataFrame, how many are binary indicators?\n"
      ],
      "metadata": {
        "id": "ApEGsGnec6BZ"
      }
    },
    {
      "cell_type": "markdown",
      "source": [
        "## Instructions\n",
        "\n",
        "* The min and max values as shown by `describe()` will be informative here.\n",
        "How many binary indicator predictors are there?\n",
        "  * 0\n",
        "  * 5\n",
        "  * 6"
      ],
      "metadata": {
        "id": "-AWPd5Wqft_d"
      }
    },
    {
      "cell_type": "markdown",
      "source": [
        "## Code"
      ],
      "metadata": {
        "id": "oKx-pAyrlVGO"
      }
    },
    {
      "cell_type": "code",
      "execution_count": 2,
      "metadata": {
        "id": "dlu9wWcWcy44"
      },
      "outputs": [],
      "source": [
        "import pandas as pd\n",
        "# Load csv file into the dataframe: df\n",
        "df = pd.read_csv(\"hourly_wages.csv\")"
      ]
    },
    {
      "cell_type": "markdown",
      "source": [
        "Perfome exploratory analysis using `head()` and `describe()` methods"
      ],
      "metadata": {
        "id": "u986qJ_NOK1h"
      }
    },
    {
      "cell_type": "code",
      "source": [
        "\n",
        "binary_predictors = []\n",
        "for col in df.columns:\n",
        "    if df[col].min() == 0 and df[col].max() == 1 and col != \"wage_per_hour\":\n",
        "        binary_predictors.append(col)\n",
        "\n",
        "print(\"Binary predictors:\", binary_predictors)\n",
        "print(\"Number of binary predictors:\", len(binary_predictors))"
      ],
      "metadata": {
        "id": "rdrPE2NrOjS5",
        "outputId": "70605da5-0075-4073-fee9-8eccefaa2640",
        "colab": {
          "base_uri": "https://localhost:8080/"
        }
      },
      "execution_count": 6,
      "outputs": [
        {
          "output_type": "stream",
          "name": "stdout",
          "text": [
            "Binary predictors: ['union', 'female', 'marr', 'south', 'manufacturing', 'construction']\n",
            "Number of binary predictors: 6\n"
          ]
        }
      ]
    }
  ]
}